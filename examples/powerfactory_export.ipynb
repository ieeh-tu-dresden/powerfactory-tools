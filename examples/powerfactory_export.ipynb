{
 "cells": [
  {
   "attachments": {},
   "cell_type": "markdown",
   "metadata": {},
   "source": [
    "#  Export Example\n",
    "Export a grid in PowerFactory to *.json files applying the 'Power System Data Model' (PSDM)\n",
    "\n",
    "Instructions:\n",
    "- Import the provided PowerFactory example (examples/grids/*.pfd) in PowerFactory (if not already done)\n",
    "- Close the PowerFactory Application\n",
    "- Run this example\n",
    "    - initiate the compatible Interface\n",
    "    - if necessary specify additional attributes to be exported\n",
    "    - Start the exporter in this process (via A)) or in a dedicated Python process (via B))\n",
    "\n",
    "The exporter generates for each study case three JSON files: topology, topology_case, steadystate_case.\n",
    "Here, only active grids will be exported."
   ]
  },
  {
   "cell_type": "code",
   "execution_count": null,
   "metadata": {},
   "outputs": [],
   "source": [
    "%load_ext autoreload\n",
    "%autoreload 2\n",
    "\n",
    "import json\n",
    "import logging\n",
    "import pathlib\n",
    "from collections.abc import Sequence\n",
    "\n",
    "from psdm.steadystate_case.case import Case as SteadystateCase\n",
    "from psdm.topology.topology import Topology\n",
    "from psdm.topology_case.case import Case as TopologyCase"
   ]
  },
  {
   "cell_type": "markdown",
   "metadata": {},
   "source": [
    "### Select an Interface that is compatible to your PowerFactory version  \n",
    "- Import the PowerFactoryExporter (in this example: that is compatible with PowerFactory in version 2024)\n",
    "- Specify additional PowerFactory configuration\n",
    "- Name the PowerFactory project"
   ]
  },
  {
   "cell_type": "code",
   "execution_count": null,
   "metadata": {},
   "outputs": [],
   "source": [
    "from powerfactory_tools.versions.pf2024 import PowerFactoryExporter\n",
    "from powerfactory_tools.versions.pf2024.interface import ValidPythonVersion\n",
    "from powerfactory_tools.versions.pf2024.types import PFClassId\n",
    "\n",
    "# PowerFactory configuration\n",
    "PF_SERVICE_PACK = 2  # mandatory\n",
    "PF_USER_PROFILE = \"\"  # specification may be necessary\n",
    "PF_PYTHON_VERSION = ValidPythonVersion.VERSION_3_12  # python version of local code environment must match the python version of PowerFactory API\n",
    "\n",
    "# Consider to use raw strings to avoid misinterpretation of special characters, e.g. r\"dir\\New Project\" or r\"dir\\1-HV-grid\".\n",
    "PROJECT_NAME = \"PowerFactory-Tools\"  # may be also full path \"dir_name\\project_name\"\n",
    "STUDY_CASES = [\"3_Bus\", \"Base\", \"Outage\", \"Industry_Park\"]  # list of study cases to be exported\n",
    "EXPORT_PATH = pathlib.Path(\"export\")"
   ]
  },
  {
   "cell_type": "markdown",
   "metadata": {},
   "source": [
    "### [Optional] Specify additional attributes to be exported\n",
    "\n",
    "- In case one wants to export additional attribute data for elements of specified types, one can use the following dictionary.\n",
    "- The dictionary key is the PowerFactory class ID of the element type, and the value is a list of attribute names.\n",
    "- The attribute names can be nested, e.g. generator.pQlimType returns a PowerFactory DataObject for which attributes can also be requested: {\"pQlimType\": {\"cap_Ppu\", \"cap_Qmnpu\"}}."
   ]
  },
  {
   "cell_type": "code",
   "execution_count": null,
   "metadata": {},
   "outputs": [],
   "source": [
    "element_specific_attrs: dict[PFClassId, Sequence[str | dict]] = {\n",
    "    PFClassId.LINE: [\"nlnum\", \"fline\", \"typ_id\"],  # list of attribute names for elements of type Line\n",
    "    PFClassId.GENERATOR: [\n",
    "        \"loc_name\",\n",
    "        {\"pQlimType\": [\"cap_Ppu\", \"cap_Qmnpu\"]},  # list of (nested) attribute names for elements of type Generator\n",
    "    ],\n",
    "}"
   ]
  },
  {
   "attachments": {},
   "cell_type": "markdown",
   "metadata": {},
   "source": [
    "## A) Export using an exporter instance\n",
    "- As the Exporter instance is started within Python process of this Jupyter Notebook, the PowerFactory application is blocked as long as this Jupyter Notebook runs.\n",
    "- To start PowerFactory again, this Jupyter Notebook has to be terminated/restarted."
   ]
  },
  {
   "cell_type": "code",
   "execution_count": null,
   "metadata": {},
   "outputs": [],
   "source": [
    "with PowerFactoryExporter(\n",
    "    project_name=PROJECT_NAME,\n",
    "    powerfactory_service_pack=PF_SERVICE_PACK,\n",
    "    powerfactory_user_profile=PF_USER_PROFILE,\n",
    "    python_version=PF_PYTHON_VERSION,\n",
    "    logging_level=logging.INFO,\n",
    "    element_specific_attrs=element_specific_attrs,\n",
    ") as exporter:\n",
    "    _project_name = PROJECT_NAME.split(\"\\\\\")\n",
    "\n",
    "    # Export each study case of the specified project and save it in a separate folder in the specified export path.\n",
    "    exporter.export(\n",
    "        export_path=EXPORT_PATH / pathlib.Path(_project_name[-1]),\n",
    "        study_case_names=STUDY_CASES,\n",
    "    )\n",
    "\n",
    "    # As alternative, export just the study case that is active at the moment\n",
    "    # exporter.export(export_path=EXPORT_PATH)  # noqa: ERA001"
   ]
  },
  {
   "attachments": {},
   "cell_type": "markdown",
   "metadata": {},
   "source": [
    "## B) Export using the export function running in a new process with default parameters\n",
    "- Starts Exporter in a separate process using multihtreading.\n",
    "- As the process is terminated after export is finished, the PowerFactory application is no longer blocked by the Python process."
   ]
  },
  {
   "cell_type": "code",
   "execution_count": null,
   "metadata": {},
   "outputs": [],
   "source": [
    "from powerfactory_tools.versions.pf2024 import export_powerfactory_data\n",
    "\n",
    "ext_log_file_path = pathlib.Path(r\"export\\logfile.txt\")\n",
    "_project_name = PROJECT_NAME.split(\"\\\\\")\n",
    "# As the export function is executed in a process that is terminated after execution, the PowerFactory API is also closed.\n",
    "export_powerfactory_data(\n",
    "    project_name=PROJECT_NAME,\n",
    "    powerfactory_service_pack=PF_SERVICE_PACK,\n",
    "    powerfactory_user_profile=PF_USER_PROFILE,\n",
    "    python_version=PF_PYTHON_VERSION,\n",
    "    export_path=EXPORT_PATH / pathlib.Path(_project_name[-1]),\n",
    "    study_case_names=STUDY_CASES,\n",
    "    logging_level=logging.INFO,\n",
    "    log_file_path=ext_log_file_path,\n",
    ")"
   ]
  },
  {
   "attachments": {},
   "cell_type": "markdown",
   "metadata": {},
   "source": [
    "## [Optional] Display JSON files and PSDM schema\n",
    "### Display example JSON files for study case \"Industry_Park\""
   ]
  },
  {
   "cell_type": "code",
   "execution_count": null,
   "metadata": {},
   "outputs": [],
   "source": [
    "t = Topology.from_file(EXPORT_PATH / pathlib.Path(\"Industry_Park\") / \"Industry_Park_HV_9_Bus_topology.json\")\n",
    "t_s = t.model_dump()\n",
    "print(json.dumps(t_s, sort_keys=True, default=str, indent=2))  # noqa: T201"
   ]
  },
  {
   "cell_type": "code",
   "execution_count": null,
   "metadata": {},
   "outputs": [],
   "source": [
    "tc = TopologyCase.from_file(EXPORT_PATH / pathlib.Path(\"Industry_Park\") / \"Industry_Park_HV_9_Bus_topology_case.json\")\n",
    "tc_s = tc.model_dump()\n",
    "print(json.dumps(tc_s, sort_keys=True, default=str, indent=2))  # noqa: T201"
   ]
  },
  {
   "cell_type": "code",
   "execution_count": null,
   "metadata": {},
   "outputs": [],
   "source": [
    "ssc = SteadystateCase.from_file(\n",
    "    EXPORT_PATH / pathlib.Path(\"Industry_Park\") / \"Industry_Park_HV_9_Bus_steadystate_case.json\",\n",
    ")\n",
    "ssc_s = ssc.model_dump()\n",
    "print(json.dumps(ssc_s, sort_keys=True, default=str, indent=2))  # noqa: T201"
   ]
  },
  {
   "attachments": {},
   "cell_type": "markdown",
   "metadata": {},
   "source": [
    "### Display raw JSON schema of Power System Data Model"
   ]
  },
  {
   "cell_type": "code",
   "execution_count": null,
   "metadata": {},
   "outputs": [],
   "source": [
    "t_s = Topology.model_json_schema()\n",
    "print(json.dumps(t_s, sort_keys=True, default=str, indent=2))  # noqa: T201"
   ]
  },
  {
   "cell_type": "code",
   "execution_count": null,
   "metadata": {},
   "outputs": [],
   "source": [
    "tc_s = TopologyCase.model_json_schema()\n",
    "print(json.dumps(tc_s, sort_keys=True, default=str, indent=2))  # noqa: T201"
   ]
  },
  {
   "cell_type": "code",
   "execution_count": null,
   "metadata": {},
   "outputs": [],
   "source": [
    "ssc_s = SteadystateCase.model_json_schema()\n",
    "print(json.dumps(ssc_s, sort_keys=True, default=str, indent=2))  # noqa: T201"
   ]
  }
 ],
 "metadata": {
  "kernelspec": {
   "display_name": ".venv",
   "language": "python",
   "name": "python3"
  },
  "language_info": {
   "codemirror_mode": {
    "name": "ipython",
    "version": 3
   },
   "file_extension": ".py",
   "mimetype": "text/x-python",
   "name": "python",
   "nbconvert_exporter": "python",
   "pygments_lexer": "ipython3",
   "version": "3.12.3"
  },
  "orig_nbformat": 4,
  "vscode": {
   "interpreter": {
    "hash": "35aadbfbad8957c2b5177cd986eb639575e477181db21330b16a1cfe9a6de599"
   }
  }
 },
 "nbformat": 4,
 "nbformat_minor": 2
}
