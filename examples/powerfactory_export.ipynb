{
   "cells": [
      {
         "cell_type": "markdown",
         "metadata": {},
         "source": [
            "# Example for utilization of powerfactory-tools"
         ]
      },
      {
         "cell_type": "code",
         "execution_count": null,
         "metadata": {
            "collapsed": false,
            "pycharm": {
               "name": "#%%\n"
            }
         },
         "outputs": [],
         "source": [
            "%load_ext autoreload\n",
            "%autoreload 2"
         ]
      },
      {
         "cell_type": "code",
         "execution_count": null,
         "metadata": {},
         "outputs": [],
         "source": [
            "import pathlib\n",
            "\n",
            "from powerfactory_tools.exporter import PowerfactoryExporter\n",
            "from powerfactory_tools.exporter import export_powerfactory_data\n",
            "from powerfactory_tools.schema.steadystate_case.case import Case as SteadystateCase\n",
            "from powerfactory_tools.schema.topology.topology import Topology\n",
            "from powerfactory_tools.schema.topology_case.case import Case as TopologyCase"
         ]
      },
      {
         "cell_type": "code",
         "execution_count": null,
         "metadata": {},
         "outputs": [],
         "source": [
            "PROJECT_NAME = \"PowerFactory-Tools\"  # may be also full path \"dir_name\\project_name\"\n",
            "GRID_NAME = \"HV_8_Bus\"\n",
            "EXPORT_PATH = pathlib.Path(\"export\")\n",
            "PF_USER_PROFILE = \"\"    # specification may be necessary"
         ]
      },
      {
         "cell_type": "markdown",
         "metadata": {},
         "source": [
            "## Export using an exporter instance"
         ]
      },
      {
         "cell_type": "code",
         "execution_count": null,
         "metadata": {},
         "outputs": [],
         "source": [
            "with PowerfactoryExporter(project_name=PROJECT_NAME, grid_name=GRID_NAME, powerfactory_user_profile=PF_USER_PROFILE) as exporter:\n",
            "    # for this example switch to base scenario\n",
            "    exporter.switch_scenario(scen=\"base\")\n",
            "    # exporter will generate now three JSON files: topology, topology_case, steadystate_case\n",
            "    # topology_name is set by default to \"GRID_NAME_topology.json\"\n",
            "    exporter.export(EXPORT_PATH, topology_name=f\"{GRID_NAME}\", topology_case_name=f\"{GRID_NAME}\", steadystate_case_name=f\"{GRID_NAME}\")\n",
            "\n",
            "    # switch to scenario \"OutOfService_Set1\" and export topology_case and steadystate_case (assuming that topology keeps the same)\n",
            "    exporter.export_scenario(export_path=EXPORT_PATH, scenario_name=\"outOfService_Set1\", topology_case_name=f\"{GRID_NAME}_Set1\", steadystate_case_name=f\"{GRID_NAME}_Set1\")"
         ]
      },
      {
         "cell_type": "markdown",
         "metadata": {},
         "source": [
            "## Export using the export function running in a new process with default parameters"
         ]
      },
      {
         "cell_type": "code",
         "execution_count": null,
         "metadata": {},
         "outputs": [],
         "source": [
            "# As the export function is executed in a process that is terminated after execution, the PowerFactory API is also closed.\n",
            "export_powerfactory_data(export_path=EXPORT_PATH, project_name=PROJECT_NAME, grid_name=GRID_NAME, powerfactory_user_profile=PF_USER_PROFILE)"
         ]
      },
      {
         "attachments": {},
         "cell_type": "markdown",
         "metadata": {
            "collapsed": false,
            "pycharm": {
               "name": "#%% md\n"
            }
         },
         "source": [
            "### [Optional] Check JSON Import and display exported JSON"
         ]
      },
      {
         "cell_type": "code",
         "execution_count": null,
         "metadata": {},
         "outputs": [],
         "source": [
            "t = Topology.from_file(EXPORT_PATH / f\"{GRID_NAME}_topology.json\")\n",
            "js = t.json(sort_keys=True)\n",
            "t2 = Topology.from_json(js)\n",
            "assert t2 == t"
         ]
      },
      {
         "cell_type": "code",
         "execution_count": null,
         "metadata": {},
         "outputs": [],
         "source": [
            "print(t2.json(indent=2))"
         ]
      },
      {
         "cell_type": "code",
         "execution_count": null,
         "metadata": {},
         "outputs": [],
         "source": [
            "tc = TopologyCase.from_file(EXPORT_PATH / f\"{GRID_NAME}_topology_case.json\")\n",
            "js2 = tc.json(sort_keys=True)\n",
            "tc2 = TopologyCase.from_json(js2)\n",
            "assert tc2 == tc"
         ]
      },
      {
         "cell_type": "code",
         "execution_count": null,
         "metadata": {},
         "outputs": [],
         "source": [
            "print(tc2.json(indent=2))"
         ]
      },
      {
         "cell_type": "code",
         "execution_count": null,
         "metadata": {
            "collapsed": false,
            "pycharm": {
               "name": "#%%\n"
            }
         },
         "outputs": [],
         "source": [
            "ssc = SteadystateCase.from_file(EXPORT_PATH / f\"{GRID_NAME}_steadystate_case.json\")\n",
            "js2 = ssc.json(sort_keys=True)\n",
            "ssc2 = SteadystateCase.from_json(js2)\n",
            "assert ssc2 == ssc"
         ]
      },
      {
         "cell_type": "code",
         "execution_count": null,
         "metadata": {
            "collapsed": false,
            "pycharm": {
               "name": "#%%\n"
            }
         },
         "outputs": [],
         "source": [
            "print(ssc2.json(indent=2))"
         ]
      },
      {
         "cell_type": "markdown",
         "metadata": {
            "collapsed": false,
            "pycharm": {
               "name": "#%% md\n"
            }
         },
         "source": [
            "### Display raw JSON schema"
         ]
      },
      {
         "cell_type": "code",
         "execution_count": null,
         "metadata": {
            "collapsed": false,
            "pycharm": {
               "name": "#%%\n"
            }
         },
         "outputs": [],
         "source": [
            "print(Topology.schema_json(indent=2))"
         ]
      },
      {
         "cell_type": "code",
         "execution_count": null,
         "metadata": {
            "collapsed": false,
            "pycharm": {
               "name": "#%%\n"
            }
         },
         "outputs": [],
         "source": [
            "print(TopologyCase.schema_json(indent=2))"
         ]
      },
      {
         "cell_type": "code",
         "execution_count": null,
         "metadata": {
            "collapsed": false,
            "pycharm": {
               "name": "#%%\n"
            }
         },
         "outputs": [],
         "source": [
            "print(SteadystateCase.schema_json(indent=2))"
         ]
      }
   ],
   "metadata": {
      "kernelspec": {
         "display_name": ".venv",
         "language": "python",
         "name": "python3"
      },
      "language_info": {
         "codemirror_mode": {
            "name": "ipython",
            "version": 3
         },
         "file_extension": ".py",
         "mimetype": "text/x-python",
         "name": "python",
         "nbconvert_exporter": "python",
         "pygments_lexer": "ipython3",
         "version": "3.10.9"
      },
      "orig_nbformat": 4,
      "vscode": {
         "interpreter": {
            "hash": "35aadbfbad8957c2b5177cd986eb639575e477181db21330b16a1cfe9a6de599"
         }
      }
   },
   "nbformat": 4,
   "nbformat_minor": 2
}
