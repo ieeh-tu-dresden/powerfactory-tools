{
 "cells": [
  {
   "attachments": {},
   "cell_type": "markdown",
   "metadata": {},
   "source": [
    "# Example for utilization of powerfactory-tools -- Export"
   ]
  },
  {
   "cell_type": "code",
   "execution_count": null,
   "metadata": {
    "collapsed": false,
    "pycharm": {
     "name": "#%%\n"
    }
   },
   "outputs": [],
   "source": [
    "%load_ext autoreload\n",
    "%autoreload 2"
   ]
  },
  {
   "cell_type": "code",
   "execution_count": null,
   "metadata": {},
   "outputs": [],
   "source": [
    "import json\n",
    "import logging\n",
    "import pathlib\n",
    "\n",
    "from powerfactory_tools.exporter import PowerFactoryExporter\n",
    "from powerfactory_tools.exporter import export_powerfactory_data\n",
    "from psdm.steadystate_case.case import Case as SteadystateCase\n",
    "from psdm.topology.topology import Topology\n",
    "from psdm.topology_case.case import Case as TopologyCase"
   ]
  },
  {
   "cell_type": "code",
   "execution_count": 6,
   "metadata": {},
   "outputs": [],
   "source": [
    "PROJECT_NAME = r\"7 Tests\\PowerFactory-Tools\"  # may be also full path \"dir_name\\project_name\"\n",
    "EXPORT_PATH = pathlib.Path(\"export\")\n",
    "PF_USER_PROFILE = \"krahmers\"  # specification may be necessary\n",
    "PYTHON_VERSION = \"3.10\"\n",
    "STUDY_CASES = [\"Base\", \"Outage\", \"Industry_Park\"]"
   ]
  },
  {
   "attachments": {},
   "cell_type": "markdown",
   "metadata": {},
   "source": [
    "## Export using an exporter instance"
   ]
  },
  {
   "cell_type": "code",
   "execution_count": null,
   "metadata": {},
   "outputs": [],
   "source": [
    "# The exporter generates for each study case three JSON files: topology, topology_case, steadystate_case.\n",
    "# Here, only active grids will be exported.\n",
    "\n",
    "with PowerFactoryExporter(\n",
    "    project_name=PROJECT_NAME,\n",
    "    powerfactory_user_profile=PF_USER_PROFILE,\n",
    "    python_version=PYTHON_VERSION,\n",
    "    logging_level=logging.INFO,\n",
    ") as exporter:\n",
    "    # Export first two study cases.\n",
    "    exporter.export(\n",
    "        export_path=EXPORT_PATH,\n",
    "        study_case_names=STUDY_CASES[0:2],\n",
    "    )\n",
    "\n",
    "    # Switch to the study case \"Industry_Park\", which consits of 2 active grids and save the exported data in separate folder\n",
    "    exporter.export(\n",
    "        export_path=EXPORT_PATH / pathlib.Path(\"Industry_Park\"),\n",
    "        study_case_names=STUDY_CASES[2:],\n",
    "    )\n",
    "\n",
    "    # Export just the study case that is active at the moment\n",
    "    # exporter.export(export_path=EXPORT_PATH)"
   ]
  },
  {
   "attachments": {},
   "cell_type": "markdown",
   "metadata": {},
   "source": [
    "## Export using the export function running in a new process with default parameters"
   ]
  },
  {
   "cell_type": "code",
   "execution_count": null,
   "metadata": {},
   "outputs": [],
   "source": [
    "# As the export function is executed in a process that is terminated after execution, the PowerFactory API is also closed.\n",
    "\n",
    "export_powerfactory_data(\n",
    "    export_path=EXPORT_PATH,\n",
    "    project_name=PROJECT_NAME,\n",
    "    study_case_names=STUDY_CASES,\n",
    "    powerfactory_user_profile=PF_USER_PROFILE,\n",
    "    python_version=PYTHON_VERSION,\n",
    ")"
   ]
  },
  {
   "attachments": {},
   "cell_type": "markdown",
   "metadata": {
    "collapsed": false,
    "pycharm": {
     "name": "#%% md\n"
    }
   },
   "source": [
    "### [Optional] Display example JSON files"
   ]
  },
  {
   "cell_type": "code",
   "execution_count": null,
   "metadata": {},
   "outputs": [],
   "source": [
    "t = Topology.from_file(EXPORT_PATH / f\"{GRID_NAME}_topology.json\")\n",
    "t_s = t.model_dump()\n",
    "print(json.dumps(t_s, sort_keys=True, default=str, indent=2))"
   ]
  },
  {
   "cell_type": "code",
   "execution_count": null,
   "metadata": {},
   "outputs": [],
   "source": [
    "tc = TopologyCase.from_file(EXPORT_PATH / f\"{GRID_NAME}_topology_case.json\")\n",
    "tc_s = tc.model_dump()\n",
    "print(json.dumps(tc_s, sort_keys=True, default=str, indent=2))"
   ]
  },
  {
   "cell_type": "code",
   "execution_count": null,
   "metadata": {},
   "outputs": [],
   "source": [
    "ssc = SteadystateCase.from_file(EXPORT_PATH / f\"{GRID_NAME}_steadystate_case.json\")\n",
    "ssc_s = ssc.model_dump()\n",
    "print(json.dumps(ssc_s, sort_keys=True, default=str, indent=2))"
   ]
  },
  {
   "attachments": {},
   "cell_type": "markdown",
   "metadata": {
    "collapsed": false,
    "pycharm": {
     "name": "#%% md\n"
    }
   },
   "source": [
    "### [Optional] Display raw JSON schema of Power System Data Model"
   ]
  },
  {
   "cell_type": "code",
   "execution_count": null,
   "metadata": {
    "collapsed": false,
    "pycharm": {
     "name": "#%%\n"
    }
   },
   "outputs": [],
   "source": [
    "t_s = Topology.model_json_schema()\n",
    "print(json.dumps(t_s, sort_keys=True, default=str, indent=2))"
   ]
  },
  {
   "cell_type": "code",
   "execution_count": null,
   "metadata": {
    "collapsed": false,
    "pycharm": {
     "name": "#%%\n"
    }
   },
   "outputs": [],
   "source": [
    "tc_s = TopologyCase.model_json_schema()\n",
    "print(json.dumps(tc_s, sort_keys=True, default=str, indent=2))"
   ]
  },
  {
   "cell_type": "code",
   "execution_count": null,
   "metadata": {
    "collapsed": false,
    "pycharm": {
     "name": "#%%\n"
    }
   },
   "outputs": [],
   "source": [
    "ssc_s = SteadystateCase.model_json_schema()\n",
    "print(json.dumps(ssc_s, sort_keys=True, default=str, indent=2))"
   ]
  }
 ],
 "metadata": {
  "kernelspec": {
   "display_name": ".venv",
   "language": "python",
   "name": "python3"
  },
  "language_info": {
   "codemirror_mode": {
    "name": "ipython",
    "version": 3
   },
   "file_extension": ".py",
   "mimetype": "text/x-python",
   "name": "python",
   "nbconvert_exporter": "python",
   "pygments_lexer": "ipython3",
   "version": "3.10.11"
  },
  "orig_nbformat": 4,
  "vscode": {
   "interpreter": {
    "hash": "35aadbfbad8957c2b5177cd986eb639575e477181db21330b16a1cfe9a6de599"
   }
  }
 },
 "nbformat": 4,
 "nbformat_minor": 2
}
