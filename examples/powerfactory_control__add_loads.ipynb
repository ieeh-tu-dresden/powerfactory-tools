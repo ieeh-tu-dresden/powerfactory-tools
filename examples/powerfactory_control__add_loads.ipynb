{
 "cells": [
  {
   "attachments": {},
   "cell_type": "markdown",
   "metadata": {},
   "source": [
    "# Example for utilization of powerfactory-tools -- Control"
   ]
  },
  {
   "cell_type": "code",
   "execution_count": 1,
   "metadata": {},
   "outputs": [],
   "source": [
    "%load_ext autoreload\n",
    "%autoreload 2"
   ]
  },
  {
   "cell_type": "markdown",
   "metadata": {},
   "source": [
    "## Select an compatible PowerFactory Interface\n",
    "- Import the PowerFactoryInterface (in this example: that is compatible with PowerFactory in version 2024)\n",
    "- Specify additional PowerFactory configuration\n",
    "- Name the PowerFactory project"
   ]
  },
  {
   "cell_type": "code",
   "execution_count": 2,
   "metadata": {},
   "outputs": [
    {
     "name": "stderr",
     "output_type": "stream",
     "text": [
      "<>:23: SyntaxWarning: invalid escape sequence '\\P'\n",
      "<>:23: SyntaxWarning: invalid escape sequence '\\P'\n",
      "D:\\Users\\s9842011\\AppData\\Local\\Temp\\ipykernel_17584\\1069366573.py:23: SyntaxWarning: invalid escape sequence '\\P'\n",
      "  PROJECT_NAME = \"7 Tests\\PowerFactory-Tools-Dev\"  # may be also full path \"dir_name\\project_name\"\n"
     ]
    }
   ],
   "source": [
    "import logging\n",
    "import math\n",
    "import pathlib\n",
    "import time\n",
    "import typing as t\n",
    "from collections.abc import Sequence\n",
    "\n",
    "from powerfactory_tools.versions.pf2024 import PowerFactoryInterface\n",
    "from powerfactory_tools.versions.pf2024.interface import ValidPFValue\n",
    "from powerfactory_tools.versions.pf2024.interface import ValidPythonVersion\n",
    "from powerfactory_tools.versions.pf2024.types import CalculationCommand\n",
    "from powerfactory_tools.versions.pf2024.types import PFClassId\n",
    "from powerfactory_tools.versions.pf2024.types import PowerFactoryTypes as PFTypes\n",
    "\n",
    "# PowerFactory configuration\n",
    "PF_SERVICE_PACK = 2  # mandatory\n",
    "PF_USER_PROFILE = \"\"  # specification may be necessary\n",
    "PF_INI_NAME = \"\"  # optional specification of ini file name to switch to full version (e.g. PowerFactoryFull for file PowerFactoryFull.ini)\n",
    "PF_PYTHON_VERSION = ValidPythonVersion.VERSION_3_12  # python version of local code environment must match the python version of PowerFactory API\n",
    "\n",
    "\n",
    "# Consider to use raw strings to avoid misinterpretation of special characters, e.g. r\"dir\\New Project\" or r\"dir\\1-HV-grid\".\n",
    "PROJECT_NAME = \"PowerFactory-Tools\"  # may be also full path \"dir_name\\project_name\"\n",
    "EXPORT_PATH = pathlib.Path(\"control_action_results\")"
   ]
  },
  {
   "cell_type": "markdown",
   "metadata": {},
   "source": [
    "## Define control routine to create new grid variant and add loads to terminals"
   ]
  },
  {
   "cell_type": "code",
   "execution_count": 3,
   "metadata": {},
   "outputs": [],
   "source": [
    "def create_load(pfi: PowerFactoryInterface, *, grid: PFTypes.Grid, load_data: dict[str, t.Any]) -> PFTypes.Load | None:\n",
    "        terminal = load_data.pop(\"terminal\")\n",
    "        load_name = load_data.pop(\"name\")\n",
    "        logging.info(f\"Create new load '{load_name}' at terminal '{terminal.loc_name}' ...\")  # noqa: G004\n",
    "\n",
    "        term_cubic = terminal.GetContents(\"*.\" + PFClassId.CUBICLE.value)[0]\n",
    "        # it is necessary to add the copy exactly on a bus, otherwise the field won't have the attribute 'cterm'\n",
    "        new_cubicle = terminal.AddCopy(term_cubic, \"cub_new_\")\n",
    "        data = {\"bus1\": new_cubicle}\n",
    "        load_data.update(data)\n",
    "\n",
    "        load = pfi.create_object(\n",
    "            name=load_name,\n",
    "            class_name=PFClassId.LOAD.value,\n",
    "            location=grid,\n",
    "            data=load_data,\n",
    "        )\n",
    "        return t.cast(\"PFTypes.Load\", load) if load is not None else None\n",
    "\n",
    "def routine_create_new_study_case_and_add_loads(\n",
    "        pfi: PowerFactoryInterface,\n",
    "        *,\n",
    "        study_case_name: str,\n",
    "        grid_variant_name: str,\n",
    "        grid: PFTypes.Grid,\n",
    "        loads_data: Sequence[dict[str, ValidPFValue]],\n",
    "    ) -> Sequence[PFTypes.Load] | None:\n",
    "        \"\"\"Use this routine to create a new study case (based on the previously active one) and add new loads to given terminals.\n",
    "\n",
    "        Args:\n",
    "            study_case_name (str): new study case name\n",
    "            grid_variant_name (str): new grid variant name\n",
    "            grid (PFTypes.Grid): grid to which the loads belongs\n",
    "            loads_data (Sequence[dict[str, ValidPFValue]]): list of dictionaries with load data\n",
    "\n",
    "        Returns:\n",
    "            Sequence[PFTypes.Load]: list of newly added loads\n",
    "        \"\"\"\n",
    "        ## Create new study case and grid variant\n",
    "        # Get active study case and grid variants\n",
    "        active_sc = pfi.app.GetActiveStudyCase()\n",
    "        default_active_variants = pfi.grid_variants(only_active=True)\n",
    "\n",
    "        # Create new study case\n",
    "        new_sc = pfi.study_case_dir.AddCopy(active_sc)\n",
    "        new_sc.loc_name = study_case_name\n",
    "        pfi.switch_study_case(study_case_name)\n",
    "\n",
    "        # Create and activate new grid variant\n",
    "        activation_time = int(math.floor(time.time()))  # now in seconds\n",
    "        new_variant = pfi.create_grid_variant(name=grid_variant_name, data={\"tAcTime\": activation_time}, force=True)\n",
    "        pfi.switch_grid_variant(grid_variant_name)\n",
    "\n",
    "        ## Add new loads\n",
    "        loads = [create_load(pfi, grid=grid, load_data=load_data) for load_data in loads_data]\n",
    "\n",
    "        ## Reactivate old (already existing) and new grid variants\n",
    "        pfi.deactivate_grid_variants()\n",
    "        # reactivate old active variants\n",
    "        for variant in default_active_variants:\n",
    "            pfi.activate_grid_variant(variant)\n",
    "        # reactivate new variant at the end\n",
    "        pfi.activate_grid_variant(new_variant)\n",
    "\n",
    "        return loads\n",
    "\n",
    "\n",
    "\n"
   ]
  },
  {
   "cell_type": "markdown",
   "metadata": {},
   "source": [
    "## Define routine to run Automatic Graph Layout Command"
   ]
  },
  {
   "cell_type": "code",
   "execution_count": null,
   "metadata": {},
   "outputs": [],
   "source": [
    "def create_sgl_layout_selection(\n",
    "        pfi: PowerFactoryInterface,\n",
    "        *,\n",
    "        data: Sequence[PFTypes.Element],\n",
    "        location: PFTypes.StudyCase | None = None,\n",
    "    ) -> PFTypes.Selection | None:\n",
    "        if location is None:\n",
    "            sc = pfi.app.GetActiveStudyCase()\n",
    "        selection = pfi.create_object(\n",
    "            name=\"SGL-Layout-Selection\",\n",
    "            class_name=PFClassId.SELECTION.value,\n",
    "            location=sc,\n",
    "        )\n",
    "\n",
    "        if selection is None:\n",
    "            return None\n",
    "        selection = t.cast(\"PFTypes.Selection\", selection)\n",
    "\n",
    "        selection.AddRef(data)\n",
    "\n",
    "        return selection\n",
    "\n",
    "def run_layout(pfi: PowerFactoryInterface, *, selection: PFTypes.Selection | None = None) -> bool:\n",
    "    \"\"\"This function gets command GRAPHIC_LAYOUT_TOOL, adjust and executes it.\"\"\"\n",
    "    logging.debug(\"Start automatic layout applicaton ...\")\n",
    "\n",
    "    layout: PFTypes.CommandSglLayout = pfi.app.GetFromStudyCase(CalculationCommand.GRAPHIC_LAYOUT_TOOL.value)\n",
    "    layout.iAction = 1\n",
    "    layout.orthoType = 1\n",
    "    layout.nodeDispersion = 0\n",
    "    layout.insertionMode = 0\n",
    "    layout.neighborhoodSize = 3\n",
    "    layout.neighborStartElems = selection\n",
    "    # layout.cFreezeMode = 0\n",
    "    # TODO unfreeze desktopPage\n",
    "    try:\n",
    "        layout.Execute()\n",
    "    except RuntimeError:\n",
    "        logging.warning(\"Automatic layouting failed.\")\n",
    "        return False\n",
    "    return True"
   ]
  },
  {
   "attachments": {},
   "cell_type": "markdown",
   "metadata": {},
   "source": [
    "## Execute control action using a controller instance"
   ]
  },
  {
   "cell_type": "code",
   "execution_count": 4,
   "metadata": {},
   "outputs": [
    {
     "name": "stdout",
     "output_type": "stream",
     "text": [
      "\u001b[32m2025-01-24 15:49:43\u001b[0m \u001b[1minterface.py:114\u001b[0m \u001b[37mStarting PowerFactory Interface...\u001b[0m\n",
      "\u001b[32m2025-01-24 15:50:11\u001b[0m \u001b[1minterface.py:122\u001b[0m \u001b[37mStarting PowerFactory Interface... Done.\u001b[0m\n"
     ]
    },
    {
     "name": "stderr",
     "output_type": "stream",
     "text": [
      "2025-01-24 15:50:11,954 - INFO - 3_Bus : Run control example 'Add loads' ... \n",
      "2025-01-24 15:50:11,955 - INFO - 3_Bus : From active study case: get all terminals ...\n"
     ]
    },
    {
     "name": "stdout",
     "output_type": "stream",
     "text": [
      "\u001b[32m2025-01-24 15:50:11\u001b[0m \u001b[33m\u001b[1minterface.py:526\u001b[0m \u001b[37mStudy_case 3_Bus is already inactive.\u001b[0m\n"
     ]
    },
    {
     "name": "stderr",
     "output_type": "stream",
     "text": [
      "2025-01-24 15:50:12,076 - INFO - Create new load 'NewLoad1' at terminal 'Node_2' ...\n",
      "2025-01-24 15:50:12,083 - INFO - Create new load 'NewLoad2' at terminal 'Node_3' ...\n",
      "2025-01-24 15:50:12,090 - INFO - 3_Bus : Run control example 'Add loads' ... Done\n"
     ]
    },
    {
     "name": "stdout",
     "output_type": "stream",
     "text": [
      "\u001b[32m2025-01-24 15:50:12\u001b[0m \u001b[1minterface.py:291\u001b[0m \u001b[37mClosing PowerFactory Interface...\u001b[0m\n",
      "\u001b[32m2025-01-24 15:50:13\u001b[0m \u001b[1minterface.py:298\u001b[0m \u001b[37mClosing PowerFactory Interface... Done.\u001b[0m\n"
     ]
    }
   ],
   "source": [
    "_project_name = PROJECT_NAME.split(\"\\\\\")\n",
    "full_export_path = pathlib.Path().cwd() / EXPORT_PATH / _project_name[-1]\n",
    "\n",
    "# Configure logging to output to the notebook's standard output\n",
    "logging.basicConfig(level=logging.INFO, format=\"%(asctime)s - %(levelname)s - %(message)s\")\n",
    "\n",
    "with PowerFactoryInterface(\n",
    "    powerfactory_service_pack=PF_SERVICE_PACK,\n",
    "    powerfactory_user_profile=PF_USER_PROFILE,\n",
    "    powerfactory_ini_name=PF_INI_NAME,\n",
    "    python_version=PF_PYTHON_VERSION,\n",
    "    project_name=PROJECT_NAME,\n",
    "    logging_level=logging.INFO,\n",
    "    # log_file_path=full_export_path / pathlib.Path(\"pf_control.log\"),  # noqa: ERA001\n",
    ") as pfi:\n",
    "    logging.info(\"3_Bus : Run control example 'Add loads' ... \")\n",
    "\n",
    "    study_case_name = \"3_Bus\"\n",
    "    grid_name = \"HV_3_Bus\"\n",
    "\n",
    "    # From active study case: get all relevant! terminals\n",
    "    logging.info(\"3_Bus : From active study case: get all terminals ...\")\n",
    "    study_case = pfi.switch_study_case(study_case_name)\n",
    "    terminals = pfi.terminals(calc_relevant=True)\n",
    "\n",
    "    # Specify load data (connected terminal, load name, further load data)\n",
    "    loads_data = [{\"name\": \"NewLoad1\", \"terminal\": terminals[1], \"plini\": 1, \"qlini\": 0.5}, \n",
    "                  {\"name\": \"NewLoad2\", \"terminal\": terminals[2], \"plini\": 2, \"qlini\": 1}]\n",
    "\n",
    "    loads = routine_create_new_study_case_and_add_loads(pfi, study_case_name=\"NewLoadsAdded\", grid_variant_name=\"NewLoadsAdded\", grid=pfi.grid(grid_name), loads_data=loads_data)\n",
    "\n",
    "    # selection = create_sgl_layout_selection(pfi, data=loads)\n",
    "    # success = run_layout(pfi, selection=selection)\n",
    "\n",
    "    logging.info(\"3_Bus : Run control example 'Add loads' ... Done\")"
   ]
  }
 ],
 "metadata": {
  "kernelspec": {
   "display_name": ".venv",
   "language": "python",
   "name": "python3"
  },
  "language_info": {
   "codemirror_mode": {
    "name": "ipython",
    "version": 3
   },
   "file_extension": ".py",
   "mimetype": "text/x-python",
   "name": "python",
   "nbconvert_exporter": "python",
   "pygments_lexer": "ipython3",
   "version": "3.12.3"
  },
  "orig_nbformat": 4,
  "vscode": {
   "interpreter": {
    "hash": "35aadbfbad8957c2b5177cd986eb639575e477181db21330b16a1cfe9a6de599"
   }
  }
 },
 "nbformat": 4,
 "nbformat_minor": 2
}
