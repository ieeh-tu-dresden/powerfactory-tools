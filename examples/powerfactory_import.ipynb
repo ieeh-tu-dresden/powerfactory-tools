{
 "cells": [
  {
   "attachments": {},
   "cell_type": "markdown",
   "metadata": {},
   "source": [
    "# Example for utilization of powerfactory-tools -- Import"
   ]
  },
  {
   "cell_type": "code",
   "execution_count": null,
   "metadata": {},
   "outputs": [],
   "source": [
    "%load_ext autoreload\n",
    "%autoreload 2"
   ]
  },
  {
   "cell_type": "code",
   "execution_count": null,
   "metadata": {},
   "outputs": [],
   "source": [
    "import json\n",
    "import logging\n",
    "import loguru\n",
    "import pathlib\n",
    "import sys\n",
    "\n",
    "from psdm.base import Base\n",
    "from psdm.steadystate_case.case import Case as SteadystateCase\n",
    "from psdm.topology.topology import Topology\n",
    "from psdm.topology_case.case import Case as TopologyCase"
   ]
  },
  {
   "cell_type": "markdown",
   "metadata": {},
   "source": [
    "## Example function for a raw PSDM import"
   ]
  },
  {
   "cell_type": "code",
   "execution_count": null,
   "metadata": {},
   "outputs": [],
   "source": [
    "def import_schema(schema_class: Topology | TopologyCase | SteadystateCase, file_path: pathlib.Path) -> Base:\n",
    "    \"\"\"Import schema from file.\"\"\"\n",
    "\n",
    "    data = schema_class.from_file(file_path)\n",
    "    json_str1 = json.dumps(data.model_dump(mode=\"json\"), indent=2, sort_keys=True)  # noqa: F841\n",
    "\n",
    "    return data\n",
    "\n",
    "\n",
    "\n",
    "def set_jupyter_logging_handler(logging_level: int, log_file_path: pathlib.Path | None) -> None:\n",
    "    if log_file_path is None:\n",
    "        loguru.logger.add(\n",
    "            sink=sys.stdout,\n",
    "            colorize=True,\n",
    "            format=\"<green>{time:YYYY-MM-DD HH:mm:ss}</green> <level>{file}:{line}</level> <white>{message}</white>\",\n",
    "            filter=\"examples\",\n",
    "            level=logging_level,\n",
    "        )\n",
    "    else:\n",
    "        loguru.logger.add(\n",
    "            sink=log_file_path,\n",
    "            format=\"{time:YYYY-MM-DD HH:mm:ss} {level} {file}:{line} {message}\",\n",
    "            filter=\"examples\",\n",
    "            level=logging_level,\n",
    "            enqueue=True,\n",
    "        )\n"
   ]
  },
  {
   "cell_type": "code",
   "execution_count": null,
   "metadata": {},
   "outputs": [],
   "source": [
    "GRID_PATH = pathlib.Path().resolve() / \"grids/\"\n",
    "CASE = \"Base\"\n",
    "SCHEMA = Topology\n",
    "PSDM_CLASS = {Topology: \"topology.json\", TopologyCase: \"topology_case.json\", SteadystateCase: \"steadystate_case.json\"}\n",
    "\n",
    "\n",
    "set_jupyter_logging_handler(logging_level=logging.INFO, log_file_path=None)\n",
    "\n",
    "json_file_path = GRID_PATH / CASE / (CASE + \"_HV_9_Bus_\" + PSDM_CLASS[SCHEMA])\n",
    "loguru.logger.info(f\"Import schema {SCHEMA} from path {json_file_path} ... \")\n",
    "data = import_schema(SCHEMA, json_file_path)\n",
    "loguru.logger.info(f\"Import schema {SCHEMA} from path {json_file_path} ... Done.\")"
   ]
  }
 ],
 "metadata": {
  "kernelspec": {
   "display_name": ".venv",
   "language": "python",
   "name": "python3"
  },
  "language_info": {
   "codemirror_mode": {
    "name": "ipython",
    "version": 3
   },
   "file_extension": ".py",
   "mimetype": "text/x-python",
   "name": "python",
   "nbconvert_exporter": "python",
   "pygments_lexer": "ipython3",
   "version": "3.10.11"
  },
  "orig_nbformat": 4,
  "vscode": {
   "interpreter": {
    "hash": "35aadbfbad8957c2b5177cd986eb639575e477181db21330b16a1cfe9a6de599"
   }
  }
 },
 "nbformat": 4,
 "nbformat_minor": 2
}
