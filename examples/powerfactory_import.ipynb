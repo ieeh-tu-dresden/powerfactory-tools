{
 "cells": [
  {
   "attachments": {},
   "cell_type": "markdown",
   "metadata": {},
   "source": [
    "# Import Example\n",
    "- Import grid data (*.json files given in the format 'Power System Data Model' (PSDM)) as PSDM schema class within the powerfactory-tools framework"
   ]
  },
  {
   "cell_type": "code",
   "execution_count": null,
   "metadata": {},
   "outputs": [],
   "source": [
    "%load_ext autoreload\n",
    "%autoreload 2\n",
    "\n",
    "import json\n",
    "import logging\n",
    "import pathlib\n",
    "\n",
    "from psdm.base import Base\n",
    "from psdm.steadystate_case.case import Case as SteadystateCase\n",
    "from psdm.topology.topology import Topology\n",
    "from psdm.topology_case.case import Case as TopologyCase\n",
    "\n",
    "from powerfactory_tools.versions.pf2024.constants import NAME_SEPARATOR\n"
   ]
  },
  {
   "cell_type": "code",
   "execution_count": null,
   "metadata": {},
   "outputs": [],
   "source": [
    "def import_schema(schema_class: Topology | TopologyCase | SteadystateCase, file_path: pathlib.Path) -> tuple[Base, str]:\n",
    "    \"\"\"Example to import PSDM schema from file.\"\"\"\n",
    "\n",
    "    data = schema_class.from_file(file_path)\n",
    "    json_str1 = json.dumps(data.model_dump(mode=\"json\"), indent=2, sort_keys=True)\n",
    "\n",
    "    return data, json_str1"
   ]
  },
  {
   "cell_type": "code",
   "execution_count": null,
   "metadata": {},
   "outputs": [],
   "source": [
    "GRID_PATH = pathlib.Path().cwd() / \"grids/\"\n",
    "CASE = \"Base\"\n",
    "SCHEMA = Topology\n",
    "PSDM_CLASS = {Topology: \"topology.json\", TopologyCase: \"topology_case.json\", SteadystateCase: \"steadystate_case.json\"}\n",
    "\n",
    "# Configure logging to output to the notebook's standard output\n",
    "logging.basicConfig(level=logging.INFO, format=\"%(asctime)s - %(levelname)s - %(message)s\")\n",
    "\n",
    "json_file_path = GRID_PATH / CASE / (CASE + NAME_SEPARATOR + \"HV_9_Bus\" + NAME_SEPARATOR + PSDM_CLASS[SCHEMA])\n",
    "logging.info(f\"Import PSDM schema {SCHEMA} from path {json_file_path} ... \")\n",
    "data, _ = import_schema(SCHEMA, json_file_path)\n",
    "logging.info(f\"Import PSDM schema {SCHEMA} from path {json_file_path} ... Done.\")"
   ]
  }
 ],
 "metadata": {
  "kernelspec": {
   "display_name": ".venv",
   "language": "python",
   "name": "python3"
  },
  "language_info": {
   "codemirror_mode": {
    "name": "ipython",
    "version": 3
   },
   "file_extension": ".py",
   "mimetype": "text/x-python",
   "name": "python",
   "nbconvert_exporter": "python",
   "pygments_lexer": "ipython3",
   "version": "3.12.3"
  },
  "orig_nbformat": 4,
  "vscode": {
   "interpreter": {
    "hash": "35aadbfbad8957c2b5177cd986eb639575e477181db21330b16a1cfe9a6de599"
   }
  }
 },
 "nbformat": 4,
 "nbformat_minor": 2
}
