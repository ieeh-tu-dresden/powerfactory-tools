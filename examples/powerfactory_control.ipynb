{
   "cells": [
      {
         "attachments": {},
         "cell_type": "markdown",
         "metadata": {},
         "source": [
            "# Example for utilization of powerfactory-tools"
         ]
      },
      {
         "cell_type": "code",
         "execution_count": 1,
         "metadata": {
            "collapsed": false,
            "pycharm": {
               "name": "#%%\n"
            }
         },
         "outputs": [],
         "source": [
            "%load_ext autoreload\n",
            "%autoreload 2"
         ]
      },
      {
         "cell_type": "code",
         "execution_count": 2,
         "metadata": {},
         "outputs": [],
         "source": [
            "import pathlib\n",
            "\n",
            "from powerfactory_tools.controller.controller import PowerFactoryController\n",
            "from powerfactory_tools.controller.controller import apply_control_1"
         ]
      },
      {
         "cell_type": "code",
         "execution_count": 3,
         "metadata": {},
         "outputs": [],
         "source": [
            "PROJECT_NAME = \"pf_dir_name\\project_name\"  # may be also full path \"dir_name\\project_name\"\n",
            "GRID_NAME = \"grid_name\"\n",
            "EXPORT_PATH = pathlib.Path(\"control_action_results\")\n",
            "PF_USER_PROFILE = \"\"    # specification may be necessary\n",
            "PF_INI_NAME = \"\"  # optional specification of ini file name to switch to full version (e.g. PowerFactoryFull for file PowerFactoryFull.ini)\n",
            "PYTHON_VERSION = \"3.10\""
         ]
      },
      {
         "attachments": {},
         "cell_type": "markdown",
         "metadata": {},
         "source": [
            "## Control using a controller instance"
         ]
      },
      {
         "cell_type": "code",
         "execution_count": null,
         "metadata": {},
         "outputs": [],
         "source": [
            "with PowerFactoryController(project_name=PROJECT_NAME, grid_name=GRID_NAME, powerfactory_user_profile=PF_USER_PROFILE, powerfactory_ini_name=PF_INI_NAME, python_version=PYTHON_VERSION) as controller:\n",
            "    # run function \"apply_control_1\"\n",
            "    controller.apply_control_1(EXPORT_PATH, export_data_name=f\"{GRID_NAME}-sequence_voltages_currents\")"
         ]
      },
      {
         "attachments": {},
         "cell_type": "markdown",
         "metadata": {},
         "source": [
            "## Control using the control function running in a new process with default parameters"
         ]
      },
      {
         "cell_type": "code",
         "execution_count": null,
         "metadata": {},
         "outputs": [],
         "source": [
            "# As the export function is executed in a process that is terminated after execution, the PowerFactory API is also closed.\n",
            "apply_control_1(export_path=EXPORT_PATH, project_name=PROJECT_NAME, grid_name=GRID_NAME, powerfactory_user_profile=PF_USER_PROFILE, powerfactory_ini_name=PF_INI_NAME, python_version=PYTHON_VERSION)"
         ]
      }
   ],
   "metadata": {
      "kernelspec": {
         "display_name": ".venv",
         "language": "python",
         "name": "python3"
      },
      "language_info": {
         "codemirror_mode": {
            "name": "ipython",
            "version": 3
         },
         "file_extension": ".py",
         "mimetype": "text/x-python",
         "name": "python",
         "nbconvert_exporter": "python",
         "pygments_lexer": "ipython3",
         "version": "3.10.7"
      },
      "orig_nbformat": 4,
      "vscode": {
         "interpreter": {
            "hash": "35aadbfbad8957c2b5177cd986eb639575e477181db21330b16a1cfe9a6de599"
         }
      }
   },
   "nbformat": 4,
   "nbformat_minor": 2
}
